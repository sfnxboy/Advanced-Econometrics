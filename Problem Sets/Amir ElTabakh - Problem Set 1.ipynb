{
 "cells": [
  {
   "cell_type": "markdown",
   "metadata": {},
   "source": [
    "# Problem Set 1\n",
    "## Amir ElTabakh\n",
    "## Due: 2/18/2022 - 11:59PM\n",
    "\n",
    "(1) Find the type of the following variables."
   ]
  },
  {
   "cell_type": "code",
   "execution_count": 1,
   "metadata": {},
   "outputs": [],
   "source": [
    "# a\n",
    "x = 2\n",
    "type(x)"
   ]
  },
  {
   "cell_type": "code",
   "execution_count": 2,
   "metadata": {},
   "outputs": [
    {
     "data": {
      "text/plain": [
       "float"
      ]
     },
     "execution_count": 2,
     "metadata": {},
     "output_type": "execute_result"
    }
   ],
   "source": [
    "# b\n",
    "x = 2.0\n",
    "type(x)"
   ]
  },
  {
   "cell_type": "code",
   "execution_count": 3,
   "metadata": {},
   "outputs": [
    {
     "data": {
      "text/plain": [
       "str"
      ]
     },
     "execution_count": 3,
     "metadata": {},
     "output_type": "execute_result"
    }
   ],
   "source": [
    "# c\n",
    "x = \"2.0\"\n",
    "type(x)"
   ]
  },
  {
   "cell_type": "code",
   "execution_count": 4,
   "metadata": {},
   "outputs": [
    {
     "data": {
      "text/plain": [
       "complex"
      ]
     },
     "execution_count": 4,
     "metadata": {},
     "output_type": "execute_result"
    }
   ],
   "source": [
    "# d\n",
    "x = 2 + 0j\n",
    "type(x)"
   ]
  },
  {
   "cell_type": "code",
   "execution_count": 5,
   "metadata": {},
   "outputs": [
    {
     "data": {
      "text/plain": [
       "str"
      ]
     },
     "execution_count": 5,
     "metadata": {},
     "output_type": "execute_result"
    }
   ],
   "source": [
    "# e\n",
    "x = \"2 + 0j\"\n",
    "type(x)"
   ]
  },
  {
   "cell_type": "code",
   "execution_count": 6,
   "metadata": {},
   "outputs": [
    {
     "data": {
      "text/plain": [
       "float"
      ]
     },
     "execution_count": 6,
     "metadata": {},
     "output_type": "execute_result"
    }
   ],
   "source": [
    "# f\n",
    "import math\n",
    "x = math.pi\n",
    "type(x)"
   ]
  },
  {
   "cell_type": "markdown",
   "metadata": {},
   "source": [
    "(2) Generate the following string variable:"
   ]
  },
  {
   "cell_type": "code",
   "execution_count": 7,
   "metadata": {},
   "outputs": [],
   "source": [
    "s = \"Python has nice syntax\""
   ]
  },
  {
   "cell_type": "code",
   "execution_count": 8,
   "metadata": {},
   "outputs": [
    {
     "data": {
      "text/plain": [
       "22"
      ]
     },
     "execution_count": 8,
     "metadata": {},
     "output_type": "execute_result"
    }
   ],
   "source": [
    "# a. Compute the number of characters in `s`\n",
    "len(s)"
   ]
  },
  {
   "cell_type": "code",
   "execution_count": 9,
   "metadata": {},
   "outputs": [
    {
     "data": {
      "text/plain": [
       "'syntax'"
      ]
     },
     "execution_count": 9,
     "metadata": {},
     "output_type": "execute_result"
    }
   ],
   "source": [
    "# b. Slice `s` to obtain the substring \"syntax\"\n",
    "s[-6:]"
   ]
  },
  {
   "cell_type": "code",
   "execution_count": 10,
   "metadata": {},
   "outputs": [
    {
     "data": {
      "text/plain": [
       "8"
      ]
     },
     "execution_count": 10,
     "metadata": {},
     "output_type": "execute_result"
    }
   ],
   "source": [
    "# c. Find the first occurrence of \"a\" in s.\n",
    "s.find('a')"
   ]
  },
  {
   "cell_type": "code",
   "execution_count": 11,
   "metadata": {},
   "outputs": [
    {
     "name": "stdout",
     "output_type": "stream",
     "text": [
      "Python hAs nice syntAx\n"
     ]
    }
   ],
   "source": [
    "# d. Replace all occurrences of \"a\" in s to \"A\".\n",
    "s = s.replace(\"a\", \"A\")\n",
    "print(s)"
   ]
  },
  {
   "cell_type": "code",
   "execution_count": 12,
   "metadata": {},
   "outputs": [
    {
     "name": "stdout",
     "output_type": "stream",
     "text": [
      "Python hAs nice syntAxBut, Stata’s is counter-intuitive.\n"
     ]
    }
   ],
   "source": [
    "# e. Add the following string to s:\n",
    "s = s + \"But, Stata’s is counter-intuitive.\"\n",
    "print(s)"
   ]
  },
  {
   "cell_type": "markdown",
   "metadata": {},
   "source": [
    "(3) Generate the following list, `y = [[1,math.pi,0,7,8], [\"abc\", bool(0), -3, 12]]`"
   ]
  },
  {
   "cell_type": "code",
   "execution_count": 13,
   "metadata": {},
   "outputs": [
    {
     "name": "stdout",
     "output_type": "stream",
     "text": [
      "[[1, 3.141592653589793, 0, 7, 8], ['abc', False, -3, 12]]\n"
     ]
    }
   ],
   "source": [
    "y = [[1,math.pi,0,7,8], [\"abc\", bool(0), -3, 12]]\n",
    "print(y)"
   ]
  },
  {
   "cell_type": "code",
   "execution_count": 14,
   "metadata": {},
   "outputs": [
    {
     "name": "stdout",
     "output_type": "stream",
     "text": [
      "[['abc', False, -3, 12], [1, 3.141592653589793, 0, 7, 8]]\n"
     ]
    }
   ],
   "source": [
    "# a. Reversing the first list in y using a reverse method.\n",
    "y.reverse()\n",
    "print(y)"
   ]
  },
  {
   "cell_type": "code",
   "execution_count": 15,
   "metadata": {},
   "outputs": [
    {
     "data": {
      "text/plain": [
       "[['abc', True, -3, 12], [1, 3.141592653589793, 0, 7, 8]]"
      ]
     },
     "execution_count": 15,
     "metadata": {},
     "output_type": "execute_result"
    }
   ],
   "source": [
    "# b. Replace bool(0) to bool(1) in the second list in y.\n",
    "y[0][1] = bool(1)\n",
    "y"
   ]
  },
  {
   "cell_type": "code",
   "execution_count": 16,
   "metadata": {},
   "outputs": [
    {
     "data": {
      "text/plain": [
       "[['abc', True, -3, 12], [1, 0, 7, 8]]"
      ]
     },
     "execution_count": 16,
     "metadata": {},
     "output_type": "execute_result"
    }
   ],
   "source": [
    "# c. Drop pi from the first list in y\n",
    "y[1].remove(math.pi)\n",
    "y"
   ]
  },
  {
   "cell_type": "code",
   "execution_count": 17,
   "metadata": {},
   "outputs": [
    {
     "data": {
      "text/plain": [
       "[['abc', True, -3, 12],\n",
       " [1, 0, 7, 8],\n",
       " [3.141592653589793, 2.718281828459045, (3-1j), False]]"
      ]
     },
     "execution_count": 17,
     "metadata": {},
     "output_type": "execute_result"
    }
   ],
   "source": [
    "# d. Add [math.pi, math.e, 3-1j, False] to y.\n",
    "y += [[math.pi, math.e, 3-1j, False]]\n",
    "y"
   ]
  },
  {
   "cell_type": "markdown",
   "metadata": {},
   "source": [
    "(4) Let z be equal to y in 3(d), `z = y`."
   ]
  },
  {
   "cell_type": "code",
   "execution_count": 18,
   "metadata": {},
   "outputs": [],
   "source": [
    "z = y"
   ]
  },
  {
   "cell_type": "code",
   "execution_count": 19,
   "metadata": {},
   "outputs": [
    {
     "name": "stdout",
     "output_type": "stream",
     "text": [
      "[['abc', True, -3, 12], [1, 0, 7, 8], [True, 2.718281828459045, (3-1j), False]]\n",
      "[['abc', True, -3, 12], [1, 0, 7, 8], [True, 2.718281828459045, (3-1j), False]]\n"
     ]
    }
   ],
   "source": [
    "# a. Replace z[2][0] to True. What happened to y?\n",
    "z[2][0] = True\n",
    "print(z)\n",
    "print(y)"
   ]
  },
  {
   "cell_type": "markdown",
   "metadata": {},
   "source": [
    "`z` is a shallow copy of `y`, not only are the values copied, but where they are stored in memory. If you manipulate `z`, `y` will change accordingly. We will have to use another function to deep copy the list over."
   ]
  },
  {
   "cell_type": "code",
   "execution_count": 20,
   "metadata": {},
   "outputs": [
    {
     "name": "stdout",
     "output_type": "stream",
     "text": [
      "[['abc', False, -3, 12], [1, 0, 7, 8], [3.141592653589793, 2.718281828459045, (3-1j), False]]\n",
      "[['abc', False, -3, 12], [1, 0, 7, 8], [True, 2.718281828459045, (3-1j), False]]\n",
      "[['abc', False, -3, 12], [1, 0, 7, 8], [3.141592653589793, 2.718281828459045, (3-1j), False]]\n"
     ]
    }
   ],
   "source": [
    "# .b How should we generate z so that the definition of y is not affected?\n",
    "# (Note that copy method will not work here.)\n",
    "\n",
    "# first reset y\n",
    "y = [[1,math.pi,0,7,8], [\"abc\", bool(0), -3, 12]]\n",
    "y.reverse()\n",
    "y[1].remove(math.pi)\n",
    "y += [[math.pi, math.e, 3-1j, False]]\n",
    "print(y)\n",
    "\n",
    "# deep copy\n",
    "import copy\n",
    "z = copy.deepcopy(y)\n",
    "\n",
    "# test\n",
    "z[2][0] = True\n",
    "print(z)\n",
    "print(y)"
   ]
  },
  {
   "cell_type": "markdown",
   "metadata": {},
   "source": [
    "(5) Generate a dictionary named student with the following keys: \"name\", \"age\", \"courses\",\n",
    "\"phone\" and corresponding values \"Jane\", 22, [\"MATH131\", \"ANTH201\"], \"555-788-5544\"."
   ]
  },
  {
   "cell_type": "code",
   "execution_count": 21,
   "metadata": {},
   "outputs": [
    {
     "data": {
      "text/plain": [
       "{'name': 'Jane',\n",
       " 'age': 22,\n",
       " 'courses': ['MATH131', 'ANTH201'],\n",
       " 'phone': '555-788-5544'}"
      ]
     },
     "execution_count": 21,
     "metadata": {},
     "output_type": "execute_result"
    }
   ],
   "source": [
    "# initializing dictionary\n",
    "student = {\"name\" : \"Jane\",\n",
    "           \"age\" : 22,\n",
    "           \"courses\" :  [\"MATH131\", \"ANTH201\"],\n",
    "           \"phone\" : \"555-788-5544\"}\n",
    "\n",
    "student"
   ]
  },
  {
   "cell_type": "code",
   "execution_count": 22,
   "metadata": {},
   "outputs": [
    {
     "data": {
      "text/plain": [
       "'555-788-5544'"
      ]
     },
     "execution_count": 22,
     "metadata": {},
     "output_type": "execute_result"
    }
   ],
   "source": [
    "# a. Print student's phone\n",
    "student['phone']"
   ]
  },
  {
   "cell_type": "code",
   "execution_count": 23,
   "metadata": {},
   "outputs": [
    {
     "data": {
      "text/plain": [
       "{'name': 'Jane',\n",
       " 'age': 24,\n",
       " 'courses': ['MATH131', 'ANTH201', 'ECO387'],\n",
       " 'phone': '555-788-5544'}"
      ]
     },
     "execution_count": 23,
     "metadata": {},
     "output_type": "execute_result"
    }
   ],
   "source": [
    "# b. Update student’s age to 24 and courses to [\"MATH131\", \"ANTH201\", \"ECO387\"].\n",
    "# updating age\n",
    "student['age'] = 24\n",
    "\n",
    "# updating courses\n",
    "student['courses'] += [\"ECO387\"]\n",
    "\n",
    "# output student\n",
    "student"
   ]
  },
  {
   "cell_type": "code",
   "execution_count": 24,
   "metadata": {},
   "outputs": [
    {
     "data": {
      "text/plain": [
       "{'name': 'Jane', 'age': 24, 'courses': ['MATH131', 'ANTH201', 'ECO387']}"
      ]
     },
     "execution_count": 24,
     "metadata": {},
     "output_type": "execute_result"
    }
   ],
   "source": [
    "# c. Drop the phone number from the dictionary\n",
    "del student['phone']\n",
    "student"
   ]
  },
  {
   "cell_type": "code",
   "execution_count": 25,
   "metadata": {},
   "outputs": [
    {
     "data": {
      "text/plain": [
       "'MATH131 - ANTH201 - ECO387'"
      ]
     },
     "execution_count": 25,
     "metadata": {},
     "output_type": "execute_result"
    }
   ],
   "source": [
    "# (d) Generate a new string variable named courses from the values in the courses\n",
    "# such that course names are separated by \"-\", and now print it.\n",
    "\n",
    "# initializing string\n",
    "courses = \"\"\n",
    "\n",
    "# iterate over elements of list and append strings to `courses`\n",
    "for i in range(len(student[\"courses\"])):\n",
    "    courses += student[\"courses\"][i]\n",
    "    if i != len(student[\"courses\"]) - 1: # we don't want to add \"-\" after the last course is appended\n",
    "        courses += \" - \"\n",
    "\n",
    "# output courses\n",
    "courses"
   ]
  },
  {
   "cell_type": "markdown",
   "metadata": {},
   "source": [
    "(6) Generate an empty set named `w1`."
   ]
  },
  {
   "cell_type": "code",
   "execution_count": 26,
   "metadata": {},
   "outputs": [
    {
     "data": {
      "text/plain": [
       "set()"
      ]
     },
     "execution_count": 26,
     "metadata": {},
     "output_type": "execute_result"
    }
   ],
   "source": [
    "# initializing w1\n",
    "w1 = set()\n",
    "w1"
   ]
  },
  {
   "cell_type": "code",
   "execution_count": 27,
   "metadata": {},
   "outputs": [
    {
     "name": "stdout",
     "output_type": "stream",
     "text": [
      "<class 'set'>\n",
      "{2, 4, 6, 8, 10, 12, 14, 16, 18, 20, 22, 24, 26, 28, 30, 32, 34, 36, 38, 40, 42, 44, 46, 48, 50, 52, 54, 56, 58, 60, 62, 64, 66, 68, 70, 72, 74, 76, 78, 80, 82, 84, 86, 88, 90, 92, 94, 96, 98, 100}\n"
     ]
    }
   ],
   "source": [
    "# a. Add the following elements to w1: {2,4,6,...,100}.\n",
    "for i in range(2, 101, 2):\n",
    "    w1.add(i)\n",
    "    \n",
    "print(type(w1))\n",
    "print(w1)"
   ]
  },
  {
   "cell_type": "code",
   "execution_count": 28,
   "metadata": {
    "scrolled": true
   },
   "outputs": [
    {
     "data": {
      "text/plain": [
       "{-100,\n",
       " -98,\n",
       " -96,\n",
       " -94,\n",
       " -92,\n",
       " -90,\n",
       " -88,\n",
       " -86,\n",
       " -84,\n",
       " -82,\n",
       " -80,\n",
       " -78,\n",
       " -76,\n",
       " -74,\n",
       " -72,\n",
       " -70,\n",
       " -68,\n",
       " -66,\n",
       " -64,\n",
       " -62,\n",
       " -60,\n",
       " -58,\n",
       " -56,\n",
       " -54,\n",
       " -52,\n",
       " -50,\n",
       " -48,\n",
       " -46,\n",
       " -44,\n",
       " -42,\n",
       " -40,\n",
       " -38,\n",
       " -36,\n",
       " -34,\n",
       " -32,\n",
       " -30,\n",
       " -28,\n",
       " -26,\n",
       " -24,\n",
       " -22,\n",
       " -20,\n",
       " -18,\n",
       " -16,\n",
       " -14,\n",
       " -12,\n",
       " -10,\n",
       " -8,\n",
       " -6,\n",
       " -4,\n",
       " -2,\n",
       " 0,\n",
       " 2,\n",
       " 4,\n",
       " 6,\n",
       " 8,\n",
       " 10,\n",
       " 12,\n",
       " 14,\n",
       " 16,\n",
       " 18,\n",
       " 20,\n",
       " 22,\n",
       " 24,\n",
       " 26,\n",
       " 28,\n",
       " 30,\n",
       " 32,\n",
       " 34,\n",
       " 36,\n",
       " 38,\n",
       " 40,\n",
       " 42,\n",
       " 44,\n",
       " 46,\n",
       " 48,\n",
       " 50,\n",
       " 52,\n",
       " 54,\n",
       " 56,\n",
       " 58,\n",
       " 60,\n",
       " 62,\n",
       " 64,\n",
       " 66,\n",
       " 68,\n",
       " 70,\n",
       " 72,\n",
       " 74,\n",
       " 76,\n",
       " 78,\n",
       " 80,\n",
       " 82,\n",
       " 84,\n",
       " 86,\n",
       " 88,\n",
       " 90,\n",
       " 92,\n",
       " 94,\n",
       " 96,\n",
       " 98,\n",
       " 100}"
      ]
     },
     "execution_count": 28,
     "metadata": {},
     "output_type": "execute_result"
    }
   ],
   "source": [
    "# b. Generate a new set w2 with the elements {-100,-98,...,98,100}\n",
    "w2 = set(range(-100, 101, 2))\n",
    "w2"
   ]
  },
  {
   "cell_type": "code",
   "execution_count": 29,
   "metadata": {},
   "outputs": [
    {
     "data": {
      "text/plain": [
       "50"
      ]
     },
     "execution_count": 29,
     "metadata": {},
     "output_type": "execute_result"
    }
   ],
   "source": [
    "# c. Find the number of elements in the intersection of w1 and w2.\n",
    "len(w1.intersection(w2))"
   ]
  },
  {
   "cell_type": "code",
   "execution_count": 32,
   "metadata": {},
   "outputs": [
    {
     "data": {
      "text/plain": [
       "0"
      ]
     },
     "execution_count": 32,
     "metadata": {},
     "output_type": "execute_result"
    }
   ],
   "source": [
    "# d. Find the number of elements in the set difference between w2 and w1\n",
    "len_max_set = len(max(w1, w2))\n",
    "len_max_set - len(w1.difference(w2))"
   ]
  }
 ],
 "metadata": {
  "kernelspec": {
   "display_name": "Python 3",
   "language": "python",
   "name": "python3"
  },
  "language_info": {
   "codemirror_mode": {
    "name": "ipython",
    "version": 3
   },
   "file_extension": ".py",
   "mimetype": "text/x-python",
   "name": "python",
   "nbconvert_exporter": "python",
   "pygments_lexer": "ipython3",
   "version": "3.8.5"
  }
 },
 "nbformat": 4,
 "nbformat_minor": 4
}
