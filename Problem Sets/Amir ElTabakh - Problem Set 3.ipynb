{
 "cells": [
  {
   "cell_type": "markdown",
   "metadata": {},
   "source": [
    "# Problem Set 3\n",
    "## Amir ElTabakh\n",
    "## Due: 3/4/2022 - 11:59PM\n",
    "\n",
    "Consider a simple linear regression model.\n",
    "\n",
    "$ y_i = \\beta_0 + \\beta_1 x_i + \\epsilon_i $\n",
    "\n",
    "for $i = 1, 2, . . . , n$. Stacking the observations, we can write the model for the entire sample as,\n",
    "\n",
    "$y = \\beta_0 1_n + \\beta_1 x + \\epsilon$\n",
    "\n",
    "where $1_n$ is the $n$ by 1 vector of 1’s; and $y$, $x$, $\\epsilon$ are all n by 1 vectors. Here ${y_i, x_i}$’s are random\n",
    "observations (i.i.d.), and $\\beta_0$ and $\\beta_1$ are unknown coefficients. The least-squares methodology\n",
    "tries to infer about the unknown coefficients by finding a best fit to sample data taken from the\n",
    "population. The best fit refers to values of β0 and β1 so that the sum of the squared residuals\n",
    "(or prediction errors) is the least possible, i.e.\n",
    "\n",
    "$(\\hat{\\beta_0}, \\hat{\\beta_1})' = argmin_{b_0, b_1} \\sum_{i=1}^n (y_i - b_0 - b_1 x_i)^2$\n",
    "\n",
    "\n",
    "It can be shown that the least squares estimator for the slope coefficient $\\beta_1$ is given by,\n",
    "\n",
    "$\\hat{\\beta_1} = \\frac{\\sum_{i=1}^n (x_i - \\bar{x})(y_i - \\bar{y})}{\\sum_{i=1}^n (x_i - \\bar{x})^2}$\n",
    "\n",
    "and the least-squares estimator for the intercept is given by,\n",
    "\n",
    "$\\hat{\\beta_0} = \\bar{y} - \\hat{\\beta_1}\\bar{x}$\n",
    "\n",
    "where $\\bar{y}$ and $\\bar{x}$ denote the sample means of $y$ and $x$, respectively.\n",
    "\n",
    "1. Write a function which will take y and x as inputs and return estimates of $\\beta_0$ and $\\beta_1$ using the least-squares methodology."
   ]
  },
  {
   "cell_type": "code",
   "execution_count": 9,
   "metadata": {},
   "outputs": [],
   "source": [
    "# importing dependencies\n",
    "import numpy as np"
   ]
  },
  {
   "cell_type": "code",
   "execution_count": 2,
   "metadata": {},
   "outputs": [],
   "source": [
    "def least_squares_coefficients(x, y):\n",
    "    \"\"\"\n",
    "    Least Squares Coefficients\n",
    "    \n",
    "    This function takes in the parameters x and y and estimates the intercept and slope\n",
    "    using the least-squares methodology. Note objects x and y must be of the same length.\n",
    "    \n",
    "    Parameters\n",
    "    ----------\n",
    "    x : An n-length numeric vector, independent variable\n",
    "    y : An n-length numeric vector, dependent variable\n",
    "    \n",
    "    Return\n",
    "    ------\n",
    "    b_0 : intercept of estimated line of best fit\n",
    "    b_1 : slope of estimated line of best fit\n",
    "    \"\"\"\n",
    "    \n",
    "    # importing dependencies\n",
    "    import numpy as np\n",
    "    \n",
    "    # error to handle vectors of unequal length\n",
    "    if len(x) != len(y):\n",
    "        return print(f\"Vectors must be of same length.\\nLengths x: {len(x)}, y: {len(y)}\")\n",
    "    \n",
    "    # cast as numpy arrays\n",
    "    x = np.array(x)\n",
    "    y = np.array(y)\n",
    "    \n",
    "    # get mean of each vector\n",
    "    x_bar = np.mean(x)\n",
    "    y_bar = np.mean(y)\n",
    "    \n",
    "    # slope\n",
    "    b_1 = np.sum((x - x_bar) * (y - y_bar)) / np.sum((x - x_bar)**2)\n",
    "    \n",
    "    # intercept\n",
    "    b_0 = y_bar - b_1 * x_bar\n",
    "    \n",
    "    return b_0, b_1"
   ]
  },
  {
   "cell_type": "markdown",
   "metadata": {},
   "source": [
    "2. Set the seed to 37 for the random number generator in `numpy`, i.e., `np.random.seed(23)`."
   ]
  },
  {
   "cell_type": "code",
   "execution_count": 3,
   "metadata": {},
   "outputs": [],
   "source": [
    "# setting seed\n",
    "np.random.seed(37)"
   ]
  },
  {
   "cell_type": "markdown",
   "metadata": {},
   "source": [
    "3. Generate an array of zeros of size 5000, and name it tmp. For 5000 times, do the following in a for loop:\n",
    "\n",
    "- a) generate 1000 observations on $x$ by drawing randomly from the standard normal distribution, (i.e., $x$ is a 1000 by 1 vector of standard normal random variables);\n",
    "\n",
    "- b) generate 1000 observations on $\\epsilon$ by drawing randomly from the standard normal distribution, (i.e., $\\epsilon$ is a 1000 by 1 vector of standard normal random variables);\n",
    "\n",
    "- c) generate the y vector using $y = −0.3 1_n + 1.7 x + \\epsilon$ using the draws from (a) and (b);\n",
    "\n",
    "- d) estimate the simple linear regression model using your function;\n",
    "\n",
    "- e) save $\\beta_1$ estimate to tmp."
   ]
  },
  {
   "cell_type": "code",
   "execution_count": 4,
   "metadata": {},
   "outputs": [],
   "source": [
    "tmp = np.zeros(5000)\n",
    "\n",
    "for i in range(len(tmp)):\n",
    "    x = np.random.normal(0, 1, 1000) # a\n",
    "    \n",
    "    epsilon = np.random.normal(0, 1, 1000) # b\n",
    "    \n",
    "    y = -0.31 + 1.7*x + epsilon # c\n",
    "    \n",
    "    b_0, b_1 = least_squares_coefficients(x = x, y = y) # d\n",
    "    \n",
    "    tmp[i] = b_1 # e"
   ]
  },
  {
   "cell_type": "markdown",
   "metadata": {},
   "source": [
    "4. Calculate the mean of tmp. Is it 1.7? How far is the mean from 1.7?"
   ]
  },
  {
   "cell_type": "code",
   "execution_count": 5,
   "metadata": {},
   "outputs": [
    {
     "name": "stdout",
     "output_type": "stream",
     "text": [
      "The mean of tmp is 1.7003155.\n",
      "The mean of tmp is 0.0100364 standard deviations away from 1.7.\n"
     ]
    }
   ],
   "source": [
    "mean_tmp = np.mean(tmp)\n",
    "std_tmp = np.std(tmp)\n",
    "z_score = (mean_tmp - 1.7) / std_tmp\n",
    "\n",
    "print(f\"The mean of tmp is {round(mean_tmp, 7)}.\")\n",
    "print(f\"The mean of tmp is {round(z_score, 7)} standard deviations away from 1.7.\")"
   ]
  },
  {
   "cell_type": "markdown",
   "metadata": {},
   "source": [
    "5. Redo (3) and (4), but this time in 3(b), generate 1000 observations on $\\epsilon$ as $\\epsilon = 0.7x + v$ where $v$ is a 1000 by 1 vector of random variables drawn independently from the standard normal distribution."
   ]
  },
  {
   "cell_type": "code",
   "execution_count": 6,
   "metadata": {},
   "outputs": [],
   "source": [
    "tmp = np.zeros(5000)\n",
    "\n",
    "for i in range(len(tmp)):\n",
    "    x = np.random.normal(0, 1, 1000) # a\n",
    "    \n",
    "    epsilon = 0.7 * x + np.random.normal(0, 1, 1000) # b\n",
    "    \n",
    "    y = -0.31 + 1.7*x + epsilon # c\n",
    "    \n",
    "    b_0, b_1 = least_squares_coefficients(x = x, y = y) # d\n",
    "    \n",
    "    tmp[i] = b_1 # e"
   ]
  },
  {
   "cell_type": "markdown",
   "metadata": {},
   "source": [
    "6. Calculate the mean of tmp again. Compared to your finding in part (4), is the mean further away from 1.7? Why?"
   ]
  },
  {
   "cell_type": "code",
   "execution_count": 7,
   "metadata": {},
   "outputs": [
    {
     "name": "stdout",
     "output_type": "stream",
     "text": [
      "The mean of tmp is 2.3991205.\n",
      "The mean of tmp is 22.3727883 standard deviations away from 1.7.\n"
     ]
    }
   ],
   "source": [
    "mean_tmp = np.mean(tmp)\n",
    "std_tmp = np.std(tmp)\n",
    "z_score = (mean_tmp - 1.7) / std_tmp\n",
    "\n",
    "print(f\"The mean of tmp is {round(mean_tmp, 7)}.\")\n",
    "print(f\"The mean of tmp is {round(z_score, 7)} standard deviations away from 1.7.\")"
   ]
  },
  {
   "cell_type": "markdown",
   "metadata": {},
   "source": [
    "The mean of `tmp` is further away from 1.7 because the generalization error $\\epsilon$ is much greater."
   ]
  }
 ],
 "metadata": {
  "kernelspec": {
   "display_name": "Python 3 (ipykernel)",
   "language": "python",
   "name": "python3"
  },
  "language_info": {
   "codemirror_mode": {
    "name": "ipython",
    "version": 3
   },
   "file_extension": ".py",
   "mimetype": "text/x-python",
   "name": "python",
   "nbconvert_exporter": "python",
   "pygments_lexer": "ipython3",
   "version": "3.9.7"
  }
 },
 "nbformat": 4,
 "nbformat_minor": 4
}
